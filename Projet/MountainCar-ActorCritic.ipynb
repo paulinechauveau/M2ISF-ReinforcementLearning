{
  "cells": [
    {
      "cell_type": "markdown",
      "metadata": {
        "id": "p62G8M_viUJp"
      },
      "source": [
        "# Playing MountainCar with the Actor-Critic method\n"
      ]
    },
    {
      "cell_type": "markdown",
      "metadata": {
        "id": "kFgN7h_wiUJq"
      },
      "source": [
        "Implementation of the [Actor-Critic](https://papers.nips.cc/paper/1786-actor-critic-algorithms.pdf) method using TensorFlow to train an agent on the [Open AI Gym](https://www.gymlibrary.dev/) [`MountainCar-v0`](https://gymnasium.farama.org/environments/classic_control/mountain_car/#mountain-car) environment.\n",
        "\n",
        "Adaptation of the [notebook](https://colab.research.google.com/github/tensorflow/docs/blob/master/site/en/tutorials/reinforcement_learning/actor_critic.ipynb?hl=fr) seen in class for the environnement `MountainCar-v0`.\n",
        "\n"
      ]
    },
    {
      "cell_type": "markdown",
      "metadata": {
        "id": "1KkhrpwE3B9k"
      },
      "source": [
        "**`MountainCar-v0`**\n",
        "\n",
        "In the [`MountainCar-v0` environment](https://gymnasium.farama.org/environments/classic_control/mountain_car/#mountain-car), a car placed stochastically at the bottom of a sinusoidal valley, with the only possible actions being the accelerations that can be applied to the car in either direction. The goal of the MDP is to strategically accelerate the car to reach the goal state on top of the right hill.\n",
        "\n",
        "<center>\n",
        "  <figure>\n",
        "    <image src=\"data:image/gif;base64,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\">\n",
        "    <figcaption>\n",
        "      Trained actor-critic model in MountainCar-v0 environment\n",
        "    </figcaption>\n",
        "  </figure>\n",
        "</center>\n"
      ]
    },
    {
      "cell_type": "markdown",
      "metadata": {
        "id": "glLwIctHiUJq"
      },
      "source": [
        "## Setup\n",
        "\n",
        "Import necessary packages and configure global settings.\n"
      ]
    },
    {
      "cell_type": "code",
      "execution_count": 97,
      "metadata": {
        "id": "13l6BbxKhCKp",
        "outputId": "081c51f7-de69-4591-8215-5bd65f5222f3",
        "colab": {
          "base_uri": "https://localhost:8080/"
        }
      },
      "outputs": [
        {
          "output_type": "stream",
          "name": "stdout",
          "text": [
            "Looking in indexes: https://pypi.org/simple, https://us-python.pkg.dev/colab-wheels/public/simple/\n",
            "Requirement already satisfied: gymnasium[classic_control] in /usr/local/lib/python3.10/dist-packages (0.28.1)\n",
            "Requirement already satisfied: numpy>=1.21.0 in /usr/local/lib/python3.10/dist-packages (from gymnasium[classic_control]) (1.22.4)\n",
            "Requirement already satisfied: jax-jumpy>=1.0.0 in /usr/local/lib/python3.10/dist-packages (from gymnasium[classic_control]) (1.0.0)\n",
            "Requirement already satisfied: cloudpickle>=1.2.0 in /usr/local/lib/python3.10/dist-packages (from gymnasium[classic_control]) (2.2.1)\n",
            "Requirement already satisfied: typing-extensions>=4.3.0 in /usr/local/lib/python3.10/dist-packages (from gymnasium[classic_control]) (4.5.0)\n",
            "Requirement already satisfied: farama-notifications>=0.0.1 in /usr/local/lib/python3.10/dist-packages (from gymnasium[classic_control]) (0.0.4)\n",
            "Requirement already satisfied: pygame==2.1.3 in /usr/local/lib/python3.10/dist-packages (from gymnasium[classic_control]) (2.1.3)\n",
            "Looking in indexes: https://pypi.org/simple, https://us-python.pkg.dev/colab-wheels/public/simple/\n",
            "Requirement already satisfied: pyglet in /usr/local/lib/python3.10/dist-packages (2.0.7)\n"
          ]
        }
      ],
      "source": [
        "!pip install gymnasium[classic_control]\n",
        "!pip install pyglet"
      ]
    },
    {
      "cell_type": "code",
      "execution_count": 98,
      "metadata": {
        "id": "WBeQhPi2S4m5"
      },
      "outputs": [],
      "source": [
        "%%bash\n",
        "# Install additional packages for visualization\n",
        "sudo apt-get install -y python-opengl > /dev/null 2>&1\n",
        "pip install git+https://github.com/tensorflow/docs > /dev/null 2>&1"
      ]
    },
    {
      "cell_type": "code",
      "execution_count": 99,
      "metadata": {
        "id": "tT4N3qYviUJr"
      },
      "outputs": [],
      "source": [
        "# import packages\n",
        "import collections\n",
        "import gymnasium as gym\n",
        "import numpy as np\n",
        "import statistics\n",
        "import tensorflow as tf\n",
        "import tqdm\n",
        "\n",
        "from matplotlib import pyplot as plt\n",
        "from tensorflow.keras import layers\n",
        "from typing import Any, List, Sequence, Tuple"
      ]
    },
    {
      "cell_type": "code",
      "source": [
        "# packages versions\n",
        "import pkg_resources\n",
        "\n",
        "packages = ['numpy', 'tensorflow', 'matplotlib', 'gymnasium', 'tqdm']\n",
        "\n",
        "for package in packages:\n",
        "    try:\n",
        "        version = pkg_resources.get_distribution(package).version\n",
        "        print(f\"{package} version: {version}\")\n",
        "    except pkg_resources.DistributionNotFound:\n",
        "        print(f\"{package} n'est pas installé.\")\n",
        "\n",
        "# numpy version: 1.22.4\n",
        "# tensorflow version: 2.12.0\n",
        "# matplotlib version: 3.7.1\n",
        "# gymnasium version: 0.28.1\n",
        "# tqdm version: 4.65.0"
      ],
      "metadata": {
        "colab": {
          "base_uri": "https://localhost:8080/"
        },
        "id": "7qaILdj0-rKJ",
        "outputId": "2989d5bd-1748-4c21-a0f3-b59c81a72d8f"
      },
      "execution_count": 100,
      "outputs": [
        {
          "output_type": "stream",
          "name": "stdout",
          "text": [
            "numpy version: 1.22.4\n",
            "tensorflow version: 2.12.0\n",
            "matplotlib version: 3.7.1\n",
            "gymnasium version: 0.28.1\n",
            "tqdm version: 4.65.0\n"
          ]
        }
      ]
    },
    {
      "cell_type": "code",
      "source": [
        "# environment\n",
        "env = gym.make(\"MountainCar-v0\")\n",
        "\n",
        "# seed\n",
        "seed = 42\n",
        "tf.random.set_seed(seed)\n",
        "np.random.seed(seed)\n",
        "\n",
        "# Small epsilon value for stabilizing division operations\n",
        "eps = np.finfo(np.float32).eps.item()"
      ],
      "metadata": {
        "id": "c51r7Qh232Ii"
      },
      "execution_count": 101,
      "outputs": []
    },
    {
      "cell_type": "code",
      "source": [
        "print(\"Observation space : \", env.observation_space,\n",
        "      \"\\nAction space : \", env.action_space)"
      ],
      "metadata": {
        "id": "YRe5n1LX4bpi",
        "colab": {
          "base_uri": "https://localhost:8080/"
        },
        "outputId": "38abd877-ddfa-4cf5-dae6-7186fdafa84f"
      },
      "execution_count": 102,
      "outputs": [
        {
          "output_type": "stream",
          "name": "stdout",
          "text": [
            "Observation space :  Box([-1.2  -0.07], [0.6  0.07], (2,), float32) \n",
            "Action space :  Discrete(3)\n"
          ]
        }
      ]
    },
    {
      "cell_type": "markdown",
      "metadata": {
        "id": "AOUCe2D0iUJu"
      },
      "source": [
        "## The model\n",
        "\n",
        "The *Actor* and *Critic* will be modeled using one neural network that generates the action probabilities and Critic value respectively. We use model subclassing to define the model. \n",
        "\n",
        "For `MountainCar-v0`, there are two values representing the state : \t\n",
        "* position of the car along the x-axis \n",
        "* velocity of the car. \n",
        "\n",
        "The agent can take three actions :\n",
        "* accelerate to the left (`0`)\n",
        "* don't accelerate (`1`) \n",
        "* accelerate to the right (`2`)\n",
        "\n"
      ]
    },
    {
      "cell_type": "code",
      "execution_count": 103,
      "metadata": {
        "id": "aXKbbMC-kmuv"
      },
      "outputs": [],
      "source": [
        "class ActorCritic(tf.keras.Model):\n",
        "  \"\"\"Combined actor-critic network.\"\"\"\n",
        "\n",
        "  def __init__(\n",
        "      self, \n",
        "      num_actions: int, \n",
        "      num_hidden_units: int):\n",
        "    \"\"\"Initialize.\"\"\"\n",
        "    super().__init__()\n",
        "\n",
        "    self.common = layers.Dense(num_hidden_units, activation=\"relu\")\n",
        "    self.actor = layers.Dense(num_actions)\n",
        "    self.critic = layers.Dense(1)\n",
        "\n",
        "  def call(self, inputs: tf.Tensor) -> Tuple[tf.Tensor, tf.Tensor]:\n",
        "    x = self.common(inputs)\n",
        "    return self.actor(x), self.critic(x)"
      ]
    },
    {
      "cell_type": "code",
      "execution_count": 104,
      "metadata": {
        "id": "nWyxJgjLn68c"
      },
      "outputs": [],
      "source": [
        "num_actions = env.action_space.n  # 3\n",
        "num_hidden_units = 128\n",
        "\n",
        "model = ActorCritic(num_actions, num_hidden_units)"
      ]
    },
    {
      "cell_type": "markdown",
      "metadata": {
        "id": "hk92njFziUJw"
      },
      "source": [
        "## Train the agent"
      ]
    },
    {
      "cell_type": "markdown",
      "metadata": {
        "id": "R2nde2XDs8Gh"
      },
      "source": [
        "### 1. Collect training data\n"
      ]
    },
    {
      "cell_type": "code",
      "execution_count": 105,
      "metadata": {
        "id": "5URrbGlDSAGx"
      },
      "outputs": [],
      "source": [
        "# Wrap Gym's `env.step` call as an operation in a TensorFlow function.\n",
        "# This would allow it to be included in a callable TensorFlow graph.\n",
        "\n",
        "def env_step(action: np.ndarray) -> Tuple[np.ndarray, np.ndarray, np.ndarray]:\n",
        "  \"\"\"Returns state, reward and done flag given an action.\"\"\"\n",
        "\n",
        "  state, reward, done, truncated, info = env.step(action)\n",
        "  return (state.astype(np.float32), \n",
        "          np.array(reward, np.int32), \n",
        "          np.array(done, np.int32))\n",
        "\n",
        "\n",
        "def tf_env_step(action: tf.Tensor) -> List[tf.Tensor]:\n",
        "  return tf.numpy_function(env_step, [action], \n",
        "                           [tf.float32, tf.int32, tf.int32])"
      ]
    },
    {
      "cell_type": "markdown",
      "source": [
        "We're changing the reward system because otherwise the agent never gets a positive reward and therefore never learn until he reaches the flag for the first. \n",
        "\n",
        "Relying on randomness to reach the flag the first time could cost a lot of iterations...\n",
        "\n",
        "Thus, we replace the reward by the square velocity $\\nu^{2}$ of the car (given in the variable state at each step), making the assumption that if the car is going fast it should be able to reach the flag, so the agent must try to gain speed. \n",
        "\n",
        "We're adding a bonus reward if the car reaches the flag, so that the agent learns to drive towards the flag (on the left) and not just up the hill."
      ],
      "metadata": {
        "id": "jsUSRkXB6rF6"
      }
    },
    {
      "cell_type": "code",
      "execution_count": 106,
      "metadata": {
        "id": "a4qVRV063Cl9"
      },
      "outputs": [],
      "source": [
        "def run_episode(\n",
        "    initial_state: tf.Tensor,  \n",
        "    model: tf.keras.Model, \n",
        "    max_steps: int) -> Tuple[tf.Tensor, tf.Tensor, tf.Tensor]:\n",
        "  \"\"\"Runs a single episode to collect training data.\"\"\"\n",
        "\n",
        "  action_probs = tf.TensorArray(dtype=tf.float32, size=0, dynamic_size=True)\n",
        "  values = tf.TensorArray(dtype=tf.float32, size=0, dynamic_size=True)\n",
        "  rewards = tf.TensorArray(dtype=tf.float32, size=0, dynamic_size=True)\n",
        "\n",
        "  initial_state_shape = initial_state.shape\n",
        "  state = initial_state\n",
        "\n",
        "  for t in tf.range(max_steps):\n",
        "    # Convert state into a batched tensor (to be compatible with the model)\n",
        "    state = tf.expand_dims(state, 0)\n",
        "  \n",
        "    # Run the model to get action probabilities and critic value\n",
        "    action_logits_t, value = model(state)\n",
        "  \n",
        "    # Sample next action from the action probability distribution\n",
        "    action = tf.random.categorical(action_logits_t, 1)[0, 0]\n",
        "    action_probs_t = tf.nn.softmax(action_logits_t)\n",
        "\n",
        "    # Store critic values\n",
        "    values = values.write(t, tf.squeeze(value))\n",
        "\n",
        "    # Store log probability of the action chosen\n",
        "    action_probs = action_probs.write(t, action_probs_t[0, action])\n",
        "  \n",
        "    # Apply action to the environment to get next state and reward\n",
        "    state, reward, done = tf_env_step(action)\n",
        "    state.set_shape(initial_state_shape)\n",
        "\n",
        "    # Modify reward system\n",
        "    reward = (state[1]**2)\n",
        "    if tf.cast(done, tf.bool):\n",
        "      reward += 10 # bonus if the flag is reached\n",
        "    \n",
        "    # Store reward\n",
        "    rewards = rewards.write(t, reward)\n",
        "\n",
        "    if tf.cast(done, tf.bool):\n",
        "      break\n",
        "\n",
        "  action_probs = action_probs.stack()\n",
        "  values = values.stack()\n",
        "  rewards = rewards.stack()\n",
        "  \n",
        "  return action_probs, values, rewards"
      ]
    },
    {
      "cell_type": "markdown",
      "metadata": {
        "id": "lBnIHdz22dIx"
      },
      "source": [
        "### 2. Expected returns\n",
        "\n",
        "The sequence of rewards for each timestep $t$ collected during one episode is converted into a sequence of expected returns in which the sum of rewards is taken from the current timestep $t$ to $T$ and each reward is multiplied with an exponentially decaying discount factor $\\gamma$\n",
        "\n"
      ]
    },
    {
      "cell_type": "code",
      "execution_count": 107,
      "metadata": {
        "id": "jpEwFyl315dl"
      },
      "outputs": [],
      "source": [
        "def get_expected_return(\n",
        "    rewards: tf.Tensor, \n",
        "    gamma: float, \n",
        "    standardize: bool = True) -> tf.Tensor:\n",
        "  \"\"\"Compute expected returns per timestep.\"\"\"\n",
        "\n",
        "  n = tf.shape(rewards)[0]\n",
        "  returns = tf.TensorArray(dtype=tf.float32, size=n)\n",
        "\n",
        "  # Start from the end of `rewards` and accumulate reward sums\n",
        "  # into the `returns` array\n",
        "  rewards = tf.cast(rewards[::-1], dtype=tf.float32)\n",
        "  discounted_sum = tf.constant(0.0)\n",
        "  discounted_sum_shape = discounted_sum.shape\n",
        "  for i in tf.range(n):\n",
        "    reward = rewards[i]\n",
        "    discounted_sum = reward + gamma * discounted_sum\n",
        "    discounted_sum.set_shape(discounted_sum_shape)\n",
        "    returns = returns.write(i, discounted_sum)\n",
        "  returns = returns.stack()[::-1]\n",
        "\n",
        "  if standardize: # to stabilize training\n",
        "    returns = ((returns - tf.math.reduce_mean(returns)) / \n",
        "               (tf.math.reduce_std(returns) + eps))\n",
        "\n",
        "  return returns"
      ]
    },
    {
      "cell_type": "markdown",
      "metadata": {
        "id": "qhr50_Czxazw"
      },
      "source": [
        "### 3. Actor-Critic loss\n",
        "\n",
        "Since we are using hybrid Actor-Critic model, the chosen loss function is a combination of Actor and Critic losses for training. \n"
      ]
    },
    {
      "cell_type": "code",
      "execution_count": 108,
      "metadata": {
        "id": "9EXwbEez6n9m"
      },
      "outputs": [],
      "source": [
        "huber_loss = tf.keras.losses.Huber(reduction=tf.keras.losses.Reduction.SUM)\n",
        "\n",
        "def compute_loss(\n",
        "    action_probs: tf.Tensor,  \n",
        "    values: tf.Tensor,  \n",
        "    returns: tf.Tensor) -> tf.Tensor:\n",
        "  \"\"\"Computes the combined Actor-Critic loss.\"\"\"\n",
        "\n",
        "  advantage = returns - values\n",
        "\n",
        "  action_log_probs = tf.math.log(action_probs)\n",
        "  actor_loss = -tf.math.reduce_sum(action_log_probs * advantage)\n",
        "\n",
        "  critic_loss = huber_loss(values, returns)\n",
        "\n",
        "  return actor_loss + critic_loss"
      ]
    },
    {
      "cell_type": "markdown",
      "metadata": {
        "id": "HSYkQOmRfV75"
      },
      "source": [
        "### 4. Training step to update parameters\n",
        "\n",
        "All of the steps above are combined into a training step that is run every episode. All steps leading up to the loss function are executed with the `tf.GradientTape` context to enable automatic differentiation.\n",
        "\n",
        "We use the Adam optimizer to apply the gradients to the model parameters.\n",
        "\n",
        "The sum of the undiscounted rewards, `episode_reward`, is also computed in this step. This value will be used later on to evaluate if the success criterion is met.\n",
        "\n",
        "The `tf.function` context is applied to the `train_step` function so that it can be compiled into a callable TensorFlow graph, which can lead to 10x speedup in training.\n"
      ]
    },
    {
      "cell_type": "code",
      "execution_count": 109,
      "metadata": {
        "id": "QoccrkF3IFCg"
      },
      "outputs": [],
      "source": [
        "optimizer = tf.keras.optimizers.Adam(learning_rate=0.01)\n",
        "\n",
        "@tf.function\n",
        "def train_step(\n",
        "    initial_state: tf.Tensor, \n",
        "    model: tf.keras.Model, \n",
        "    optimizer: tf.keras.optimizers.Optimizer, \n",
        "    gamma: float, \n",
        "    max_steps_per_episode: int) -> tf.Tensor:\n",
        "  \"\"\"Runs a model training step.\"\"\"\n",
        "\n",
        "  with tf.GradientTape() as tape:\n",
        "\n",
        "    # Run the model for one episode to collect training data\n",
        "    action_probs, values, rewards = run_episode(\n",
        "        initial_state, model, max_steps_per_episode) \n",
        "\n",
        "    # Calculate the expected returns\n",
        "    returns = get_expected_return(rewards, gamma)\n",
        "\n",
        "    # Convert training data to appropriate TF tensor shapes\n",
        "    action_probs, values, returns = [\n",
        "        tf.expand_dims(x, 1) for x in [action_probs, values, returns]] \n",
        "\n",
        "    # Calculate the loss values to update our network\n",
        "    loss = compute_loss(action_probs, values, returns)\n",
        "\n",
        "  # Compute the gradients from the loss\n",
        "  grads = tape.gradient(loss, model.trainable_variables)\n",
        "\n",
        "  # Apply the gradients to the model's parameters\n",
        "  optimizer.apply_gradients(zip(grads, model.trainable_variables))\n",
        "\n",
        "  episode_reward = tf.math.reduce_sum(rewards)\n",
        "\n",
        "  return episode_reward"
      ]
    },
    {
      "cell_type": "markdown",
      "metadata": {
        "id": "HFvZiDoAflGK"
      },
      "source": [
        "### 5. Training loop\n",
        "\n",
        "Training is executed by running the training step until either the success criterion or maximum number of episodes is reached.  "
      ]
    },
    {
      "cell_type": "code",
      "execution_count": 110,
      "metadata": {
        "id": "kbmBxnzLiUJx",
        "outputId": "c508df4b-a57c-4eb6-8138-e2cb0b8f1779",
        "colab": {
          "base_uri": "https://localhost:8080/"
        }
      },
      "outputs": [
        {
          "output_type": "stream",
          "name": "stderr",
          "text": [
            "100%|██████████| 10000/10000 [20:39<00:00,  8.07it/s, episode_reward=tf.Tensor(10.132502, shape=(), dtype=float32), running_reward=8.52]"
          ]
        },
        {
          "output_type": "stream",
          "name": "stdout",
          "text": [
            "CPU times: user 27min 7s, sys: 43.9 s, total: 27min 51s\n",
            "Wall time: 20min 39s\n"
          ]
        },
        {
          "output_type": "stream",
          "name": "stderr",
          "text": [
            "\n"
          ]
        }
      ],
      "source": [
        "%%time\n",
        "\n",
        "min_episodes_criterion = 100\n",
        "max_episodes = 10000\n",
        "max_steps_per_episode = 200 # MoutainCar is truncated at 200 steps\n",
        "\n",
        "# The discount factor for future rewards\n",
        "gamma = 0.99\n",
        "\n",
        "# According to our reward system, MountainCar is considered to be solved if reward >= 10\n",
        "reward_treshold = 10\n",
        "running_reward = 0\n",
        "\n",
        "all_episodes_reward = []\n",
        "\n",
        "# Keep the last episodes reward\n",
        "episodes_reward: collections.deque = collections.deque(maxlen=min_episodes_criterion)\n",
        "\n",
        "t = tqdm.trange(max_episodes)\n",
        "for i in t:\n",
        "     # Reset environnement at each episode\n",
        "    initial_state, info = env.reset() \n",
        "    initial_state = tf.constant(initial_state, dtype=tf.float32)\n",
        "    # Train step to update parameters\n",
        "    episode_reward = train_step(\n",
        "        initial_state, model, optimizer, gamma, max_steps_per_episode)\n",
        "    \n",
        "    all_episodes_reward.append(episode_reward)\n",
        "\n",
        "    # Store last episode reward (and drop first reward of the list if len > 100)\n",
        "    episodes_reward.append(episode_reward)\n",
        "\n",
        "    # Compute mean of last 100 episode rewards\n",
        "    running_reward = np.mean(episodes_reward)\n",
        "\n",
        "    # Display current episode_reward and running_reward with tqdm\n",
        "    t.set_postfix(\n",
        "        episode_reward=episode_reward, running_reward=running_reward)\n",
        "    \n",
        "    # Exit the loop if success criteria is satisfied\n",
        "    if running_reward >= reward_treshold and i > min_episodes_criterion:\n",
        "      break\n",
        "  "
      ]
    },
    {
      "cell_type": "code",
      "source": [
        "# Plot all episode reward\n",
        "plt.plot(range(max_episodes), all_episodes_reward)\n",
        "plt.xlabel('episode')\n",
        "plt.ylabel('reward')\n",
        "plt.show()"
      ],
      "metadata": {
        "colab": {
          "base_uri": "https://localhost:8080/",
          "height": 449
        },
        "id": "TV5uMyS-VyCD",
        "outputId": "c920ffec-fa13-4bb8-dce2-889294ab35a7"
      },
      "execution_count": 113,
      "outputs": [
        {
          "output_type": "display_data",
          "data": {
            "text/plain": [
              "<Figure size 640x480 with 1 Axes>"
            ],
            "image/png": "[encoded data removed]"
          },
          "metadata": {}
        }
      ]
    },
    {
      "cell_type": "markdown",
      "source": [
        "The agent starts to reach the flag frequently after around 3000 iterations,  but the algorithm does not converge after 10000 iterations.  \n",
        "\n",
        "The reward system is surely not optimal."
      ],
      "metadata": {
        "id": "ENxIw3HSQCXx"
      }
    },
    {
      "cell_type": "markdown",
      "metadata": {
        "id": "ru8BEwS1EmAv"
      },
      "source": [
        "## Visualization\n"
      ]
    },
    {
      "cell_type": "code",
      "execution_count": 118,
      "metadata": {
        "id": "qbIMMkfmRHyC"
      },
      "outputs": [],
      "source": [
        "# Render an episode and save as a GIF file\n",
        "\n",
        "from IPython import display as ipythondisplay\n",
        "from PIL import Image\n",
        "\n",
        "render_env = gym.make(\"MountainCar-v0\", render_mode='rgb_array')\n",
        "\n",
        "def render_episode(env: gym.Env, model: tf.keras.Model, max_steps: int): \n",
        "  state, info = env.reset()\n",
        "  state = tf.constant(state, dtype=tf.float32)\n",
        "  screen = env.render()\n",
        "  images = [Image.fromarray(screen)]\n",
        " \n",
        "  # Run episode\n",
        "  for i in range(1, max_steps + 1):\n",
        "    state = tf.expand_dims(state, 0)\n",
        "    action_probs, _ = model(state)\n",
        "    action = np.argmax(np.squeeze(action_probs))\n",
        "\n",
        "    state, reward, done, truncated, info = env.step(action)\n",
        "    state = tf.constant(state, dtype=tf.float32)\n",
        "\n",
        "    # Render screen every 10 steps\n",
        "    if i % 10 == 0:\n",
        "      screen = env.render()\n",
        "      images.append(Image.fromarray(screen))\n",
        "  \n",
        "    if done:\n",
        "      break\n",
        "  \n",
        "  return images\n",
        "\n",
        "\n",
        "# Save GIF image\n",
        "images = render_episode(render_env, model, max_steps_per_episode)\n",
        "image_file = 'MountainCar-v0.gif'\n",
        "# loop=0: loop forever, duration=1: play each frame for 1ms\n",
        "images[0].save(\n",
        "    image_file, save_all=True, append_images=images[1:], loop=0, duration=1)"
      ]
    },
    {
      "cell_type": "code",
      "execution_count": 119,
      "metadata": {
        "id": "TLd720SejKmf",
        "outputId": "561d59d9-2f6f-4b58-dabb-adee8e577f1c",
        "colab": {
          "base_uri": "https://localhost:8080/",
          "height": 421
        }
      },
      "outputs": [
        {
          "output_type": "execute_result",
          "data": {
            "text/plain": [
              "<IPython.core.display.HTML object>"
            ],
            "text/html": [
              "<img src=\"data:image/gif;base64,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\"/>"
            ]
          },
          "metadata": {},
          "execution_count": 119
        }
      ],
      "source": [
        "import tensorflow_docs.vis.embed as embed\n",
        "embed.embed_file(image_file)"
      ]
    }
  ],
  "metadata": {
    "colab": {
      "provenance": []
    },
    "kernelspec": {
      "display_name": "Python 3",
      "name": "python3"
    }
  },
  "nbformat": 4,
  "nbformat_minor": 0
}